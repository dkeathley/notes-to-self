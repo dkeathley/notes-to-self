{
 "cells": [
  {
   "cell_type": "markdown",
   "id": "2936c319-05ad-4219-92d2-225bb623cf51",
   "metadata": {},
   "source": [
    "# Short Cable Impedance\n",
    "\n",
    "## Description\n",
    "\n",
    "This {download}`note<../attachments/short-cable-impedance.pdf>` examines two approaches to approximating the impedance of a short coax cable.\n",
    "\n",
    " 1. The transmission-line approach\n",
    " 2. The lumped element approach\n",
    "\n",
    "It shows that both are the same in the limit of a short cable.\n",
    "\n",
    "However, the transmission-line approach is more general.\n",
    "\n",
    "Since it is just as easy and straightforward, I don't see why you shouldn't always calculate impedance using the transmission-line approach.\n",
    "\n",
    "## Documents\n",
    "\n",
    "{download}`Note (PDF)<../attachments/short-cable-impedance.pdf>`"
   ]
  }
 ],
 "metadata": {
  "jupytext": {
   "formats": "ipynb//ipynb,markdown//md:myst",
   "text_representation": {
    "extension": ".md",
    "format_name": "myst",
    "format_version": 0.13,
    "jupytext_version": "1.11.5"
   }
  },
  "kernelspec": {
   "display_name": "Python 3 (ipykernel)",
   "language": "python",
   "name": "python3"
  },
  "language_info": {
   "codemirror_mode": {
    "name": "ipython",
    "version": 3
   },
   "file_extension": ".py",
   "mimetype": "text/x-python",
   "name": "python",
   "nbconvert_exporter": "python",
   "pygments_lexer": "ipython3",
   "version": "3.11.4"
  },
  "widgets": {
   "application/vnd.jupyter.widget-state+json": {
    "state": {},
    "version_major": 2,
    "version_minor": 0
   }
  }
 },
 "nbformat": 4,
 "nbformat_minor": 5
}
