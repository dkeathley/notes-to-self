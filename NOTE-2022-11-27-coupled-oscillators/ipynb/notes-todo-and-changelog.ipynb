{
 "cells": [
  {
   "cell_type": "markdown",
   "id": "0baa6f88-1af2-4149-b877-f158de2ea33e",
   "metadata": {},
   "source": [
    "## Notes"
   ]
  },
  {
   "cell_type": "markdown",
   "id": "36318742-ce53-4f37-9432-4a6447f3634a",
   "metadata": {
    "jp-MarkdownHeadingCollapsed": true,
    "tags": []
   },
   "source": [
    "### 2022-12-16\n",
    "\n",
    "**Notes**\n",
    " - Defined A in the coupled-capcitor network model"
   ]
  },
  {
   "cell_type": "markdown",
   "id": "e1bfd8cf-a3f1-4a73-a469-f6cd927ec081",
   "metadata": {
    "jp-MarkdownHeadingCollapsed": true,
    "tags": []
   },
   "source": [
    "### 2022-12-04\n",
    "\n",
    "**Notes**\n",
    " - So far everything looks perfect -- I really like this model.  It fits every observable thing that we are seeing.  \n",
    " - I think that the only remaining thing to include is loss on the transmission line. \n",
    " - That could be loss that is due to the bend and radiation, as well as loss that is on the line\n",
    " - For this I should make it purely phenomenological\n",
    " - One difference I should keep in mind between this model and experiment (why it will never be 1-1 correspondence) is that in the experiment there is an extended network of these connections!"
   ]
  },
  {
   "cell_type": "markdown",
   "id": "c633e0b4-9956-4771-b624-aadd1a3c37f9",
   "metadata": {},
   "source": [
    "# TODO"
   ]
  },
  {
   "cell_type": "markdown",
   "id": "eea2583f-86cd-42ec-b777-75e2336f5405",
   "metadata": {},
   "source": [
    "  - [ ] Better label plots\n",
    "  - [ ] Add in more descriptive text with images and step by step of what is going on in each part\n",
    "  - [ ] If it makes sense, add in widgets for adjusting different essential parameters (esp. about the pulse and t-line).\n",
    "    - At least describe the variables.\n",
    "  - [x] Clean up introductory parts with simplified models\n",
    "  - [ ] Create section discussing how to select parameters\n",
    "  - [ ] Clean up entry of parameters to make it easier for the reader\n",
    "  - [ ] Create external function for T-line simulations and put as separate github\n",
    "    - [ ] Link to this here for reference"
   ]
  }
 ],
 "metadata": {
  "kernelspec": {
   "display_name": "Python 3 (ipykernel)",
   "language": "python",
   "name": "python3"
  },
  "language_info": {
   "codemirror_mode": {
    "name": "ipython",
    "version": 3
   },
   "file_extension": ".py",
   "mimetype": "text/x-python",
   "name": "python",
   "nbconvert_exporter": "python",
   "pygments_lexer": "ipython3",
   "version": "3.8.15"
  },
  "widgets": {
   "application/vnd.jupyter.widget-state+json": {
    "state": {},
    "version_major": 2,
    "version_minor": 0
   }
  }
 },
 "nbformat": 4,
 "nbformat_minor": 5
}
