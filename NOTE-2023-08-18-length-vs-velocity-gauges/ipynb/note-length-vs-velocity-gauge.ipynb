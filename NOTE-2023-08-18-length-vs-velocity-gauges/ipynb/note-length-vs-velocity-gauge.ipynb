{
 "cells": [
  {
   "cell_type": "markdown",
   "id": "e0c69138-73ae-455d-865e-6e5fc41ed4d2",
   "metadata": {},
   "source": [
    "# Length and Velocity Gauges"
   ]
  },
  {
   "cell_type": "markdown",
   "id": "b8ece151-b103-440d-8b19-c3de5d015c5b",
   "metadata": {},
   "source": [
    " This note explores quantum electron wavepacket interactions with classical electromagnetic fields in the length and velocity gauges.  Most of the discussion is in the context of laser-assisted rescattering.  The goal of this note is to better understand what is the precise physical meaning of performing a calculation in the length and velocity gauges.  We also discuss how you can perform calculations working somewhere in a relaxed form of these gauges.  Hopefully this note adds some clarity to  some confusing topics that are often not very well explained in the literature."
   ]
  },
  {
   "cell_type": "markdown",
   "id": "7f6cfcd8-0555-41c8-830b-2d19f5ce72a2",
   "metadata": {},
   "source": [
    "## References \n",
    "\n",
    "```{bibliography}\n",
    ":filter: docname in docnames\n",
    ":style: unsrt\n",
    "```\n"
   ]
  }
 ],
 "metadata": {
  "kernelspec": {
   "display_name": "Python 3 (ipykernel)",
   "language": "python",
   "name": "python3"
  },
  "language_info": {
   "codemirror_mode": {
    "name": "ipython",
    "version": 3
   },
   "file_extension": ".py",
   "mimetype": "text/x-python",
   "name": "python",
   "nbconvert_exporter": "python",
   "pygments_lexer": "ipython3",
   "version": "3.8.13"
  },
  "widgets": {
   "application/vnd.jupyter.widget-state+json": {
    "state": {},
    "version_major": 2,
    "version_minor": 0
   }
  }
 },
 "nbformat": 4,
 "nbformat_minor": 5
}
