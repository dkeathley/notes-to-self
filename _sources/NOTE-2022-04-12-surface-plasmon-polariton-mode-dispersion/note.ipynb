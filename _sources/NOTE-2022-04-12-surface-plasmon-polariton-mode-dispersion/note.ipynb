{
 "cells": [
  {
   "cell_type": "markdown",
   "id": "698f96f0",
   "metadata": {},
   "source": [
    "# Surface Plasmon Polariton Mode Dispersion with Derivation\n",
    "\n",
    "In this note I derive the mode dispersion for surface plasmon polaritons traveling along a planar interface.  While the focus is eventually on surface plasmon modes, the analysis follows a generalized approach that I find helpful in thinking about electromagnetic modes at interfaces."
   ]
  }
 ],
 "metadata": {
  "jupytext": {
   "formats": "ipynb//ipynb,md:myst",
   "text_representation": {
    "extension": ".md",
    "format_name": "myst",
    "format_version": 0.13,
    "jupytext_version": "1.11.5"
   }
  },
  "kernelspec": {
   "display_name": "Python 3 (ipykernel)",
   "language": "python",
   "name": "python3"
  },
  "language_info": {
   "codemirror_mode": {
    "name": "ipython",
    "version": 3
   },
   "file_extension": ".py",
   "mimetype": "text/x-python",
   "name": "python",
   "nbconvert_exporter": "python",
   "pygments_lexer": "ipython3",
   "version": "3.8.12"
  },
  "source_map": [
   13
  ]
 },
 "nbformat": 4,
 "nbformat_minor": 5
}