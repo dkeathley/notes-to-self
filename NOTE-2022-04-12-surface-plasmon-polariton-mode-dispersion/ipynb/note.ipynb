{
 "cells": [
  {
   "cell_type": "markdown",
   "id": "e8d8d171-8c0e-4f01-b807-fffef3e6a5c0",
   "metadata": {},
   "source": [
    "# Surface Plasmon Polariton Mode Dispersion with Derivation\n",
    "\n",
    "[Note](note.pdf)\n",
    "\n",
    "In this note I derive the mode dispersion for surface plasmon polaritons traveling along a planar interface.  While the focus is eventually on surface plasmon modes, the analysis follows a generalized approach that I find helpful in thinking about electromagnetic modes at interfaces."
   ]
  }
 ],
 "metadata": {
  "jupytext": {
   "formats": "ipynb//ipynb,md:myst"
  },
  "kernelspec": {
   "display_name": "Python 3 (ipykernel)",
   "language": "python",
   "name": "python3"
  },
  "language_info": {
   "codemirror_mode": {
    "name": "ipython",
    "version": 3
   },
   "file_extension": ".py",
   "mimetype": "text/x-python",
   "name": "python",
   "nbconvert_exporter": "python",
   "pygments_lexer": "ipython3",
   "version": "3.8.12"
  },
  "widgets": {
   "application/vnd.jupyter.widget-state+json": {
    "state": {},
    "version_major": 2,
    "version_minor": 0
   }
  }
 },
 "nbformat": 4,
 "nbformat_minor": 5
}
